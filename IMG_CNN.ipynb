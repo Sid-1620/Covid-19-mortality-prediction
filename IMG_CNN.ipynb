{
  "cells": [
    {
      "cell_type": "code",
      "execution_count": null,
      "metadata": {
        "id": "XL7aIOqrH0VD"
      },
      "outputs": [],
      "source": [
        "from tensorflow.keras.preprocessing.image import ImageDataGenerator\n",
        "import matplotlib.pyplot as plt\n"
      ]
    },
    {
      "cell_type": "code",
      "execution_count": null,
      "metadata": {
        "colab": {
          "base_uri": "https://localhost:8080/"
        },
        "id": "QGIqR1JET3iG",
        "outputId": "83e15126-312d-4f62-ca00-a8cebfb18a39"
      },
      "outputs": [
        {
          "output_type": "stream",
          "name": "stdout",
          "text": [
            "Mounted at /gdrive\n",
            "/gdrive\n"
          ]
        }
      ],
      "source": [
        "from google.colab import drive\n",
        "drive.mount('/gdrive')\n",
        "%cd /gdrive"
      ]
    },
    {
      "cell_type": "code",
      "execution_count": null,
      "metadata": {
        "id": "i9vFhrfAVAzk"
      },
      "outputs": [],
      "source": [
        "train_datagen = ImageDataGenerator(\n",
        "      rescale=1./255)"
      ]
    },
    {
      "cell_type": "code",
      "execution_count": null,
      "metadata": {
        "colab": {
          "base_uri": "https://localhost:8080/"
        },
        "id": "tP4zHTAnVC1k",
        "outputId": "7b804a1e-6c21-44b4-f011-35fc279339bf"
      },
      "outputs": [
        {
          "output_type": "stream",
          "name": "stdout",
          "text": [
            "Found 3769 images belonging to 2 classes.\n"
          ]
        }
      ],
      "source": [
        "train_generator=train_datagen.flow_from_directory(\n",
        "    directory='/gdrive/MyDrive/Risk Prediction/Dataset/Image dataset/Train/',\n",
        "    target_size=(150,150),\n",
        "    batch_size=157,\n",
        "    color_mode='grayscale',\n",
        "    class_mode='binary',\n",
        ")"
      ]
    },
    {
      "cell_type": "code",
      "source": [
        "test_datagen = ImageDataGenerator(rescale=1./255)"
      ],
      "metadata": {
        "id": "a1sCdV0c_C9H"
      },
      "execution_count": null,
      "outputs": []
    },
    {
      "cell_type": "code",
      "source": [
        "test_data=test_datagen.flow_from_directory(\n",
        "    directory='/gdrive/MyDrive/Risk Prediction/Dataset/Image dataset/Test/',\n",
        "    target_size=(150,150),\n",
        "    batch_size=47,\n",
        "    color_mode='grayscale',\n",
        "    class_mode='binary'\n",
        ")"
      ],
      "metadata": {
        "colab": {
          "base_uri": "https://localhost:8080/"
        },
        "id": "NkTNKbWl_NsV",
        "outputId": "a571628e-6f1d-4b7a-bf4d-3de1df3e415d"
      },
      "execution_count": null,
      "outputs": [
        {
          "output_type": "stream",
          "name": "stdout",
          "text": [
            "Found 940 images belonging to 2 classes.\n"
          ]
        }
      ]
    },
    {
      "cell_type": "code",
      "source": [
        "train_generator.class_indices"
      ],
      "metadata": {
        "colab": {
          "base_uri": "https://localhost:8080/"
        },
        "id": "nBI0kAqClUku",
        "outputId": "7a556126-7fff-4843-8d88-579bb752eabe"
      },
      "execution_count": null,
      "outputs": [
        {
          "output_type": "execute_result",
          "data": {
            "text/plain": [
              "{'Dead': 0, 'Recovered': 1}"
            ]
          },
          "metadata": {},
          "execution_count": 7
        }
      ]
    },
    {
      "cell_type": "code",
      "source": [
        "test_data.class_indices"
      ],
      "metadata": {
        "colab": {
          "base_uri": "https://localhost:8080/"
        },
        "id": "5j8O3bRVlIr-",
        "outputId": "bd3f8c90-a780-45dc-bb6a-77dbd639c7c7"
      },
      "execution_count": null,
      "outputs": [
        {
          "output_type": "execute_result",
          "data": {
            "text/plain": [
              "{'Dead': 0, 'Recovered': 1}"
            ]
          },
          "metadata": {},
          "execution_count": 8
        }
      ]
    },
    {
      "cell_type": "code",
      "execution_count": null,
      "metadata": {
        "id": "Q56GLO9FYWL9"
      },
      "outputs": [],
      "source": [
        "from keras.models import Sequential\n",
        "from keras.layers import Conv2D,Conv1D\n",
        "from keras.layers import MaxPooling1D,MaxPooling2D\n",
        "from keras.layers import Dense\n",
        "from keras.layers import Flatten\n",
        "import tensorflow as tf"
      ]
    },
    {
      "cell_type": "code",
      "execution_count": null,
      "metadata": {
        "colab": {
          "base_uri": "https://localhost:8080/"
        },
        "id": "DR1ztyfBYcCs",
        "outputId": "8250d339-a4fe-4d75-f246-8d37b6befac8"
      },
      "outputs": [
        {
          "output_type": "stream",
          "name": "stdout",
          "text": [
            "Model: \"sequential\"\n",
            "_________________________________________________________________\n",
            " Layer (type)                Output Shape              Param #   \n",
            "=================================================================\n",
            " conv2d (Conv2D)             (None, 148, 148, 16)      160       \n",
            "                                                                 \n",
            " max_pooling2d (MaxPooling2D  (None, 74, 74, 16)       0         \n",
            " )                                                               \n",
            "                                                                 \n",
            " conv2d_1 (Conv2D)           (None, 72, 72, 32)        4640      \n",
            "                                                                 \n",
            " max_pooling2d_1 (MaxPooling  (None, 36, 36, 32)       0         \n",
            " 2D)                                                             \n",
            "                                                                 \n",
            " conv2d_2 (Conv2D)           (None, 34, 34, 64)        18496     \n",
            "                                                                 \n",
            " max_pooling2d_2 (MaxPooling  (None, 17, 17, 64)       0         \n",
            " 2D)                                                             \n",
            "                                                                 \n",
            " flatten (Flatten)           (None, 18496)             0         \n",
            "                                                                 \n",
            " dense (Dense)               (None, 512)               9470464   \n",
            "                                                                 \n",
            " dense_1 (Dense)             (None, 1)                 513       \n",
            "                                                                 \n",
            "=================================================================\n",
            "Total params: 9,494,273\n",
            "Trainable params: 9,494,273\n",
            "Non-trainable params: 0\n",
            "_________________________________________________________________\n"
          ]
        }
      ],
      "source": [
        "model = tf.keras.models.Sequential([\n",
        " tf.keras.layers.Conv2D(16, (3,3), activation='relu', input_shape=(150, 150, 1)),\n",
        " tf.keras.layers.MaxPooling2D(2, 2),\n",
        " # The second convolution\n",
        " tf.keras.layers.Conv2D(32, (3,3), activation='relu'),\n",
        " tf.keras.layers.MaxPooling2D(2,2),\n",
        " # The third convolution\n",
        " tf.keras.layers.Conv2D(64, (3,3), activation='relu'),\n",
        " tf.keras.layers.MaxPooling2D(2,2),\n",
        " # Flatten the results to feed into a DNN\n",
        " tf.keras.layers.Flatten(),\n",
        " # 512 neuron hidden layer\n",
        " tf.keras.layers.Dense(512, activation='relu'),\n",
        " tf.keras.layers.Dense(1, activation='sigmoid')\n",
        " ])\n",
        "\n",
        "\n",
        "model.summary()"
      ]
    },
    {
      "cell_type": "code",
      "execution_count": null,
      "metadata": {
        "id": "-c72TQQCavGL",
        "colab": {
          "base_uri": "https://localhost:8080/"
        },
        "outputId": "2629e77c-d8c8-42e9-eaab-94c3ddf3da4b"
      },
      "outputs": [
        {
          "output_type": "stream",
          "name": "stderr",
          "text": [
            "/usr/local/lib/python3.7/dist-packages/keras/optimizer_v2/rmsprop.py:130: UserWarning: The `lr` argument is deprecated, use `learning_rate` instead.\n",
            "  super(RMSprop, self).__init__(name, **kwargs)\n"
          ]
        }
      ],
      "source": [
        "from tensorflow.keras.optimizers import RMSprop\n",
        "model.compile(optimizer=RMSprop(lr=0.001),loss='binary_crossentropy',metrics=['accuracy'])\n"
      ]
    },
    {
      "cell_type": "code",
      "execution_count": null,
      "metadata": {
        "colab": {
          "base_uri": "https://localhost:8080/"
        },
        "id": "Y2vyrtlLaz97",
        "outputId": "c4897da3-505b-42c8-897c-da7ccb35f137"
      },
      "outputs": [
        {
          "output_type": "stream",
          "name": "stdout",
          "text": [
            "Epoch 1/50\n",
            "24/24 [==============================] - 2465s 103s/step - loss: 0.6038 - accuracy: 0.7187 - val_loss: 0.5703 - val_accuracy: 0.7553\n",
            "Epoch 2/50\n",
            "24/24 [==============================] - 9s 369ms/step - loss: 0.5176 - accuracy: 0.7580 - val_loss: 0.5951 - val_accuracy: 0.7255\n",
            "Epoch 3/50\n",
            "24/24 [==============================] - 9s 373ms/step - loss: 0.5081 - accuracy: 0.7688 - val_loss: 0.5661 - val_accuracy: 0.7372\n",
            "Epoch 4/50\n",
            "24/24 [==============================] - 9s 372ms/step - loss: 0.4908 - accuracy: 0.7666 - val_loss: 0.5642 - val_accuracy: 0.7532\n",
            "Epoch 5/50\n",
            "24/24 [==============================] - 9s 370ms/step - loss: 0.4703 - accuracy: 0.7746 - val_loss: 0.5698 - val_accuracy: 0.7372\n",
            "Epoch 6/50\n",
            "24/24 [==============================] - 9s 366ms/step - loss: 0.4683 - accuracy: 0.7832 - val_loss: 0.5564 - val_accuracy: 0.7319\n",
            "Epoch 7/50\n",
            "24/24 [==============================] - 9s 377ms/step - loss: 0.4563 - accuracy: 0.7907 - val_loss: 0.5427 - val_accuracy: 0.7245\n",
            "Epoch 8/50\n",
            "24/24 [==============================] - 9s 368ms/step - loss: 0.4449 - accuracy: 0.7885 - val_loss: 0.6056 - val_accuracy: 0.7489\n",
            "Epoch 9/50\n",
            "24/24 [==============================] - 9s 374ms/step - loss: 0.4429 - accuracy: 0.7835 - val_loss: 0.5671 - val_accuracy: 0.7191\n",
            "Epoch 10/50\n",
            "24/24 [==============================] - 9s 375ms/step - loss: 0.4322 - accuracy: 0.7940 - val_loss: 0.6063 - val_accuracy: 0.7394\n",
            "Epoch 11/50\n",
            "24/24 [==============================] - 9s 365ms/step - loss: 0.4241 - accuracy: 0.8023 - val_loss: 0.5704 - val_accuracy: 0.7351\n",
            "Epoch 12/50\n",
            "24/24 [==============================] - 9s 368ms/step - loss: 0.4443 - accuracy: 0.7865 - val_loss: 0.5888 - val_accuracy: 0.7383\n",
            "Epoch 13/50\n",
            "24/24 [==============================] - 9s 378ms/step - loss: 0.4254 - accuracy: 0.8001 - val_loss: 0.5671 - val_accuracy: 0.7362\n",
            "Epoch 14/50\n",
            "24/24 [==============================] - 9s 386ms/step - loss: 0.4298 - accuracy: 0.7935 - val_loss: 0.5922 - val_accuracy: 0.7404\n",
            "Epoch 15/50\n",
            "24/24 [==============================] - 9s 378ms/step - loss: 0.4120 - accuracy: 0.8054 - val_loss: 0.5817 - val_accuracy: 0.7404\n",
            "Epoch 16/50\n",
            "24/24 [==============================] - 9s 372ms/step - loss: 0.4096 - accuracy: 0.8020 - val_loss: 0.5974 - val_accuracy: 0.7266\n",
            "Epoch 17/50\n",
            "24/24 [==============================] - 9s 370ms/step - loss: 0.4056 - accuracy: 0.8043 - val_loss: 0.6404 - val_accuracy: 0.7447\n",
            "Epoch 18/50\n",
            "24/24 [==============================] - 9s 371ms/step - loss: 0.4020 - accuracy: 0.8131 - val_loss: 0.7291 - val_accuracy: 0.7500\n",
            "Epoch 19/50\n",
            "24/24 [==============================] - 9s 367ms/step - loss: 0.4078 - accuracy: 0.8073 - val_loss: 0.5917 - val_accuracy: 0.7447\n",
            "Epoch 20/50\n",
            "24/24 [==============================] - 9s 379ms/step - loss: 0.3914 - accuracy: 0.8145 - val_loss: 0.6861 - val_accuracy: 0.7479\n",
            "Epoch 21/50\n",
            "24/24 [==============================] - 9s 377ms/step - loss: 0.3950 - accuracy: 0.8148 - val_loss: 0.6317 - val_accuracy: 0.7436\n",
            "Epoch 22/50\n",
            "24/24 [==============================] - 9s 385ms/step - loss: 0.3870 - accuracy: 0.8140 - val_loss: 0.5881 - val_accuracy: 0.7468\n",
            "Epoch 23/50\n",
            "24/24 [==============================] - 9s 380ms/step - loss: 0.3947 - accuracy: 0.8167 - val_loss: 0.6530 - val_accuracy: 0.7500\n",
            "Epoch 24/50\n",
            "24/24 [==============================] - 9s 368ms/step - loss: 0.4059 - accuracy: 0.8043 - val_loss: 0.6645 - val_accuracy: 0.7457\n",
            "Epoch 25/50\n",
            "24/24 [==============================] - 9s 377ms/step - loss: 0.3751 - accuracy: 0.8203 - val_loss: 0.5730 - val_accuracy: 0.7202\n",
            "Epoch 26/50\n",
            "24/24 [==============================] - 9s 377ms/step - loss: 0.4099 - accuracy: 0.8043 - val_loss: 0.6306 - val_accuracy: 0.7660\n",
            "Epoch 27/50\n",
            "24/24 [==============================] - 9s 379ms/step - loss: 0.3873 - accuracy: 0.8134 - val_loss: 0.6809 - val_accuracy: 0.7532\n",
            "Epoch 28/50\n",
            "24/24 [==============================] - 9s 370ms/step - loss: 0.3762 - accuracy: 0.8200 - val_loss: 0.6070 - val_accuracy: 0.7362\n",
            "Epoch 29/50\n",
            "24/24 [==============================] - 9s 372ms/step - loss: 0.3754 - accuracy: 0.8217 - val_loss: 0.6683 - val_accuracy: 0.7521\n",
            "Epoch 30/50\n",
            "24/24 [==============================] - 9s 370ms/step - loss: 0.3653 - accuracy: 0.8283 - val_loss: 0.6186 - val_accuracy: 0.7362\n",
            "Epoch 31/50\n",
            "24/24 [==============================] - 9s 366ms/step - loss: 0.3601 - accuracy: 0.8264 - val_loss: 0.6338 - val_accuracy: 0.7362\n",
            "Epoch 32/50\n",
            "24/24 [==============================] - 9s 378ms/step - loss: 0.3577 - accuracy: 0.8275 - val_loss: 0.6826 - val_accuracy: 0.7468\n",
            "Epoch 33/50\n",
            "24/24 [==============================] - 9s 380ms/step - loss: 0.3612 - accuracy: 0.8278 - val_loss: 0.7847 - val_accuracy: 0.7617\n",
            "Epoch 34/50\n",
            "24/24 [==============================] - 9s 372ms/step - loss: 0.3439 - accuracy: 0.8339 - val_loss: 0.6887 - val_accuracy: 0.7160\n",
            "Epoch 35/50\n",
            "24/24 [==============================] - 9s 379ms/step - loss: 0.3974 - accuracy: 0.8170 - val_loss: 0.6771 - val_accuracy: 0.7266\n",
            "Epoch 36/50\n",
            "24/24 [==============================] - 9s 375ms/step - loss: 0.3411 - accuracy: 0.8361 - val_loss: 0.6719 - val_accuracy: 0.7564\n",
            "Epoch 37/50\n",
            "24/24 [==============================] - 9s 373ms/step - loss: 0.3458 - accuracy: 0.8322 - val_loss: 0.7158 - val_accuracy: 0.7500\n",
            "Epoch 38/50\n",
            "24/24 [==============================] - 9s 377ms/step - loss: 0.3363 - accuracy: 0.8414 - val_loss: 0.7645 - val_accuracy: 0.7426\n",
            "Epoch 39/50\n",
            "24/24 [==============================] - 9s 372ms/step - loss: 0.3334 - accuracy: 0.8436 - val_loss: 0.6752 - val_accuracy: 0.7149\n",
            "Epoch 40/50\n",
            "24/24 [==============================] - 9s 372ms/step - loss: 0.3318 - accuracy: 0.8439 - val_loss: 0.7756 - val_accuracy: 0.7436\n",
            "Epoch 41/50\n",
            "24/24 [==============================] - 9s 370ms/step - loss: 0.3325 - accuracy: 0.8400 - val_loss: 0.7801 - val_accuracy: 0.7309\n",
            "Epoch 42/50\n",
            "24/24 [==============================] - 9s 372ms/step - loss: 0.3112 - accuracy: 0.8552 - val_loss: 0.8427 - val_accuracy: 0.7287\n",
            "Epoch 43/50\n",
            "24/24 [==============================] - 9s 376ms/step - loss: 0.3175 - accuracy: 0.8491 - val_loss: 0.7541 - val_accuracy: 0.7213\n",
            "Epoch 44/50\n",
            "24/24 [==============================] - 9s 379ms/step - loss: 0.3039 - accuracy: 0.8544 - val_loss: 0.9636 - val_accuracy: 0.7564\n",
            "Epoch 45/50\n",
            "24/24 [==============================] - 9s 387ms/step - loss: 0.3234 - accuracy: 0.8602 - val_loss: 0.8395 - val_accuracy: 0.7255\n",
            "Epoch 46/50\n",
            "24/24 [==============================] - 9s 382ms/step - loss: 0.2912 - accuracy: 0.8652 - val_loss: 0.8172 - val_accuracy: 0.7191\n",
            "Epoch 47/50\n",
            "24/24 [==============================] - 9s 391ms/step - loss: 0.3050 - accuracy: 0.8618 - val_loss: 0.8734 - val_accuracy: 0.7223\n",
            "Epoch 48/50\n",
            "24/24 [==============================] - 9s 382ms/step - loss: 0.2959 - accuracy: 0.8635 - val_loss: 0.8187 - val_accuracy: 0.6947\n",
            "Epoch 49/50\n",
            "24/24 [==============================] - 9s 380ms/step - loss: 0.2802 - accuracy: 0.8671 - val_loss: 0.8348 - val_accuracy: 0.7074\n",
            "Epoch 50/50\n",
            "24/24 [==============================] - 9s 385ms/step - loss: 0.2872 - accuracy: 0.8738 - val_loss: 0.9585 - val_accuracy: 0.7149\n"
          ]
        }
      ],
      "source": [
        "history = model.fit(\n",
        " train_generator,\n",
        " steps_per_epoch=24,\n",
        " epochs=50,\n",
        " validation_data=test_data\n",
        " )"
      ]
    },
    {
      "cell_type": "code",
      "source": [
        "#plotting the Accuracy of test and training sets\n",
        "plt.plot(history.history['accuracy'])\n",
        "plt.plot(history.history['val_accuracy'])\n",
        "plt.title('Model Accuracy')\n",
        "plt.ylabel('accuracy')\n",
        "plt.xlabel('epoch')\n",
        "plt.legend(['train', 'test'], loc='upper left')\n",
        "plt.show()"
      ],
      "metadata": {
        "colab": {
          "base_uri": "https://localhost:8080/",
          "height": 295
        },
        "id": "JSMpbWsH_zon",
        "outputId": "ab0bd6f4-8b73-45c9-9f8e-d352f844ee7d"
      },
      "execution_count": null,
      "outputs": [
        {
          "output_type": "display_data",
          "data": {
            "text/plain": [
              "<Figure size 432x288 with 1 Axes>"
            ],
            "image/png": "[encoded data removed]"
          },
          "metadata": {
            "needs_background": "light"
          }
        }
      ]
    }
  ],
  "metadata": {
    "colab": {
      "name": "IMG-CNN.ipynb",
      "provenance": [],
      "collapsed_sections": []
    },
    "kernelspec": {
      "display_name": "Python 3",
      "name": "python3"
    },
    "language_info": {
      "name": "python"
    },
    "accelerator": "GPU"
  },
  "nbformat": 4,
  "nbformat_minor": 0
}